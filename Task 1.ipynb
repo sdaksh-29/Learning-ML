{
 "cells": [
  {
   "cell_type": "code",
   "execution_count": 1,
   "id": "21a0ec03",
   "metadata": {},
   "outputs": [],
   "source": [
    "import numpy as np"
   ]
  },
  {
   "cell_type": "code",
   "execution_count": 2,
   "id": "844aae4e-18c7-494e-b731-2dd03505447f",
   "metadata": {},
   "outputs": [],
   "source": [
    "arr = np.arange(1,11)"
   ]
  },
  {
   "cell_type": "code",
   "execution_count": 3,
   "id": "da51d568",
   "metadata": {},
   "outputs": [
    {
     "name": "stdout",
     "output_type": "stream",
     "text": [
      "1\n",
      "2\n",
      "3\n",
      "4\n",
      "5\n",
      "6\n",
      "7\n",
      "8\n",
      "9\n",
      "10\n"
     ]
    }
   ],
   "source": [
    "for i in arr:\n",
    "    print(i)"
   ]
  },
  {
   "cell_type": "markdown",
   "id": "968253b5",
   "metadata": {},
   "source": [
    "# 1 Searching an element"
   ]
  },
  {
   "cell_type": "code",
   "execution_count": 4,
   "id": "6322574c-f260-42b9-b54a-d342207cba87",
   "metadata": {},
   "outputs": [],
   "source": [
    "def search(arr,n,s):\n",
    "    for i in range(n):\n",
    "        if(arr[i]==s):\n",
    "            return i\n",
    "    return -1"
   ]
  },
  {
   "cell_type": "markdown",
   "id": "18cb4721",
   "metadata": {},
   "source": [
    "# 2 Finding largest element"
   ]
  },
  {
   "cell_type": "code",
   "execution_count": 5,
   "id": "08765582-14e7-4fc8-a047-a375de8b22f0",
   "metadata": {},
   "outputs": [],
   "source": [
    "def largest(arr):\n",
    "    for a in arr:\n",
    "        m = a\n",
    "        for i in arr:\n",
    "            if i>m:\n",
    "                m = i\n",
    "                break\n",
    "    return m"
   ]
  },
  {
   "cell_type": "markdown",
   "id": "c1268dfa",
   "metadata": {},
   "source": [
    "# 3 Finding smallest number"
   ]
  },
  {
   "cell_type": "code",
   "execution_count": 6,
   "id": "4d14a949-82ed-40db-8613-9a4c0034d2b1",
   "metadata": {},
   "outputs": [],
   "source": [
    "def smallest(arr):\n",
    "    for a in arr:\n",
    "        m = a\n",
    "        for b in arr:\n",
    "            if b<m:\n",
    "                m = b\n",
    "                break\n",
    "    return m"
   ]
  },
  {
   "cell_type": "markdown",
   "id": "bee4ee32",
   "metadata": {},
   "source": [
    "# 4 Reversing an array"
   ]
  },
  {
   "cell_type": "code",
   "execution_count": 7,
   "id": "e0be9f31-53b8-4475-bc4a-839c70e2cc97",
   "metadata": {},
   "outputs": [],
   "source": [
    "def reverse(arr):\n",
    "    return arr[::-1]"
   ]
  },
  {
   "cell_type": "markdown",
   "id": "61bbdb3c",
   "metadata": {},
   "source": [
    "#  5 Rotating an array from kth position"
   ]
  },
  {
   "cell_type": "code",
   "execution_count": 8,
   "id": "91328c53-4eb4-4e89-b487-879077b9799c",
   "metadata": {},
   "outputs": [],
   "source": [
    "def rotate(arr,n,k):\n",
    "    k=k%n\n",
    "    for i in range(k):\n",
    "        t=arr[n-1]\n",
    "        for j in range(n-1,0,-1):\n",
    "            arr[j]=arr[j-1]\n",
    "        arr[0]=t\n",
    "    return arr    "
   ]
  }
 ],
 "metadata": {
  "kernelspec": {
   "display_name": "Python 3 (ipykernel)",
   "language": "python",
   "name": "python3"
  },
  "language_info": {
   "codemirror_mode": {
    "name": "ipython",
    "version": 3
   },
   "file_extension": ".py",
   "mimetype": "text/x-python",
   "name": "python",
   "nbconvert_exporter": "python",
   "pygments_lexer": "ipython3",
   "version": "3.11.0"
  }
 },
 "nbformat": 4,
 "nbformat_minor": 5
}
